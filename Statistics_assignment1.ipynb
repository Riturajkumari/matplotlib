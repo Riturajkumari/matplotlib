{
  "cells": [
    {
      "cell_type": "markdown",
      "metadata": {
        "id": "view-in-github",
        "colab_type": "text"
      },
      "source": [
        "<a href=\"https://colab.research.google.com/github/Riturajkumari/matplotlib/blob/main/Statistics_assignment1.ipynb\" target=\"_parent\"><img src=\"https://colab.research.google.com/assets/colab-badge.svg\" alt=\"Open In Colab\"/></a>"
      ]
    },
    {
      "cell_type": "markdown",
      "id": "9168ca95",
      "metadata": {
        "id": "9168ca95"
      },
      "source": [
        "**Q1. What is Statistics?**"
      ]
    },
    {
      "cell_type": "markdown",
      "id": "5ad766c0",
      "metadata": {
        "id": "5ad766c0"
      },
      "source": [
        "- Statistics is a branch of mathematics that deals with collecting, analyzing, interpreting, and visualizing empirical data.\n",
        "\n",
        "- statistics is the science of collecting, organizing and analysing data.'\n",
        "  - example. \n",
        "   Height of students in classroom "
      ]
    },
    {
      "cell_type": "code",
      "execution_count": null,
      "id": "037ed8f4",
      "metadata": {
        "id": "037ed8f4"
      },
      "outputs": [],
      "source": []
    },
    {
      "cell_type": "markdown",
      "id": "4cfc7906",
      "metadata": {
        "id": "4cfc7906"
      },
      "source": [
        "**Q2. Define the different types of statistics and give an example of when each type might be used.**"
      ]
    },
    {
      "cell_type": "markdown",
      "id": "7e12feda",
      "metadata": {
        "id": "7e12feda"
      },
      "source": [
        "- Descriptive statistics and inferential statistics are the two major areas of statistics. \n",
        " -  Descriptive statistics are for describing the properties of sample and population data (what has happened).\n",
        "  a. measure of central tendency(mean, median, mode)\n",
        "  \n",
        "  b. measure of Dispersion[variance, standard deviation]\n",
        "  \n",
        "  c. different type of Distribution of data.\n",
        "  \n",
        "  example. Histrogram, pdf, pmf\n",
        "  \n",
        "  Example- \" What is thr avearage height of the entire classroom\"."
      ]
    },
    {
      "cell_type": "markdown",
      "id": "fc92da7e",
      "metadata": {
        "id": "fc92da7e"
      },
      "source": [
        "- Inferential statistics use those properties to test hypotheses, reach conclusions, and make predictions.\n",
        "- hypothesis testing,\n",
        "Some popular hypothesis tests are:\n",
        "\n",
        "Chi-square test\n",
        "T-test\n",
        "Z-test\n",
        "Analysis of Variance (ANOVA)\n",
        " \n",
        " example- Are the height of the Students in classroom similar to what you expect in the entire college .\n"
      ]
    },
    {
      "cell_type": "markdown",
      "id": "5ccf4bca",
      "metadata": {
        "id": "5ccf4bca"
      },
      "source": [
        "**Q3. What are the different types of data and how do they differ from each other? Provide an example of\n",
        "each type of data.**"
      ]
    },
    {
      "cell_type": "markdown",
      "id": "2ea1708d",
      "metadata": {
        "id": "2ea1708d"
      },
      "source": [
        "different types of data\n",
        "1. Quantitative \n",
        "   - Discrete\n",
        "   - Countinuous\n",
        "2. Qualitative\n",
        "   - nominal\n",
        "   - ordinal"
      ]
    },
    {
      "cell_type": "markdown",
      "id": "5bd8f789",
      "metadata": {
        "id": "5bd8f789"
      },
      "source": [
        "- Discrete (whole number)\n",
        "\n",
        "example- number of bank Account , number of children in a family."
      ]
    },
    {
      "cell_type": "markdown",
      "id": "06927cec",
      "metadata": {
        "id": "06927cec"
      },
      "source": [
        "- Countinuous\n",
        "\n",
        "example- weight, height, temprature, speed"
      ]
    },
    {
      "cell_type": "markdown",
      "id": "e8269a92",
      "metadata": {
        "id": "e8269a92"
      },
      "source": [
        "- nominal\n",
        "\n",
        "example- gender(male, female) , Blood group, pin code\n"
      ]
    },
    {
      "cell_type": "markdown",
      "id": "bee395a1",
      "metadata": {
        "id": "bee395a1"
      },
      "source": [
        "- Ordinal\n",
        "\n",
        " example- Rank Category, Customer feedback, good, bad , better"
      ]
    },
    {
      "cell_type": "code",
      "execution_count": null,
      "id": "fb6e2715",
      "metadata": {
        "id": "fb6e2715"
      },
      "outputs": [],
      "source": []
    },
    {
      "cell_type": "markdown",
      "id": "07da8b4c",
      "metadata": {
        "id": "07da8b4c"
      },
      "source": [
        "**Q4. Categorise the following datasets with respect to quantitative and qualitative data types:**\n",
        "\n",
        "(i) Grading in exam: A+, A, B+, B, C+, C, D, E\n",
        "\n",
        "(ii) Colour of mangoes: yellow, green, orange, red\n",
        "\n",
        "(iii) Height data of a class: [178.9, 179, 179.5, 176, 177.2, 178.3, 175.8,...]\n",
        "\n",
        "(iv) Number of mangoes exported by a farm: [500, 600, 478, 672, ...]"
      ]
    },
    {
      "cell_type": "markdown",
      "id": "a5363f3d",
      "metadata": {
        "id": "a5363f3d"
      },
      "source": [
        "**(i) Grading in exam: A+, A, B+, B, C+, C, D, E**\n",
        "\n",
        "- ordinal"
      ]
    },
    {
      "cell_type": "markdown",
      "id": "443e6253",
      "metadata": {
        "id": "443e6253"
      },
      "source": [
        "**(ii) Colour of mangoes: yellow, green, orange, red**\n",
        "- Nominal"
      ]
    },
    {
      "cell_type": "markdown",
      "id": "b008e1a1",
      "metadata": {
        "id": "b008e1a1"
      },
      "source": [
        "**(iii) Height data of a class: [178.9, 179, 179.5, 176, 177.2, 178.3, 175.8,...]**\n",
        "- Countinous"
      ]
    },
    {
      "cell_type": "markdown",
      "id": "7d7b19af",
      "metadata": {
        "id": "7d7b19af"
      },
      "source": [
        "**(iv) Number of mangoes exported by a farm: [500, 600, 478, 672, ...]**\n",
        "- Discrete"
      ]
    },
    {
      "cell_type": "code",
      "execution_count": null,
      "id": "a661baba",
      "metadata": {
        "id": "a661baba"
      },
      "outputs": [],
      "source": []
    },
    {
      "cell_type": "markdown",
      "id": "6c7eab36",
      "metadata": {
        "id": "6c7eab36"
      },
      "source": [
        "**Q5. Explain the concept of levels of measurement and give an example of a variable for each level.**"
      ]
    },
    {
      "cell_type": "markdown",
      "id": "9521739d",
      "metadata": {
        "id": "9521739d"
      },
      "source": [
        "**Scale of Measurement**\n",
        "- Nominal Scale Data\n",
        "- Ordinal Scale data\n",
        "- Interval Scale Data\n",
        "- Ratio Scale Data"
      ]
    },
    {
      "cell_type": "markdown",
      "id": "d88ed886",
      "metadata": {
        "id": "d88ed886"
      },
      "source": [
        "- Nominal: the data can only be categorized\n",
        "- Ordinal: the data can be categorized and ranked\n",
        "- Interval: the data can be categorized, ranked, and evenly spaced\n",
        "- Ratio: the data can be categorized, ranked, evenly spaced, and has a natural zero."
      ]
    },
    {
      "cell_type": "markdown",
      "id": "0084a217",
      "metadata": {
        "id": "0084a217"
      },
      "source": [
        "1. Nominal : You can categorize your data by labelling them in mutually exclusive groups, but there is no order between the categories.\n"
      ]
    },
    {
      "cell_type": "markdown",
      "id": "76ea16cf",
      "metadata": {
        "id": "76ea16cf"
      },
      "source": [
        "1. Nominal Scale Data\n",
        " - Qualitative / Categorical\n",
        "2. EXample: \n",
        "  -  City of birth\n",
        "  - Gender\n",
        "  - Ethnicity\n",
        "   - Car brands\n",
        "   - Marital status\n",
        " - Order does not matter\n",
        " example, favorite color\n",
        " red -  5 - 50%\n",
        " blue - 3- 30%\n",
        " Orange -  2- 20%"
      ]
    },
    {
      "cell_type": "markdown",
      "id": "cde07999",
      "metadata": {
        "id": "cde07999"
      },
      "source": [
        "2. Ordinal Scale data- categorize and rank your data in an order, but you cannot say anything about the intervals between the rankings.\n",
        " - Ranking is important\n",
        " - order matter\n",
        "a. example \n",
        " Top 5 Olympic medallists\n",
        "Language ability (e.g., beginner, intermediate, fluent"
      ]
    },
    {
      "cell_type": "markdown",
      "id": "0993140d",
      "metadata": {
        "id": "0993140d"
      },
      "source": [
        "3. Interval Scale Data\n",
        "- the order matter\n",
        "- difference can be measured \n",
        "- Ratio cannot be measured\n",
        "- No true starting points\n",
        "- The difference between any two adjacent temperatures is the same: one degree. But  zero degrees is defined differently depending on the scale – it doesn’t mean an absolute absence of temperature.\n",
        "\n",
        "example\n",
        "Test scores (e.g., IQ or exams)\n",
        "Personality inventories\n",
        "Temperature in Fahrenheit or Celsius"
      ]
    },
    {
      "cell_type": "markdown",
      "id": "be761726",
      "metadata": {
        "id": "be761726"
      },
      "source": [
        "4. Ratio Scale Data\n",
        "- The order matter\n",
        "- Difference are measurable(including ratio )\n",
        "- it contain a  \"0\"  starting point\n",
        "\n",
        "Height\n",
        "Age\n",
        "Weight\n",
        "Temperature in Kelvin\n",
        "\n",
        "example-  student marks in a class\n",
        "90, 60, 30, 75, 40, 50\n",
        " Asscending order- 30,40,50,60,75,90\n",
        " 40-30= 10\n",
        " 50-30= 20\n",
        " ratio= 90: 30= 3:1"
      ]
    },
    {
      "cell_type": "code",
      "execution_count": null,
      "id": "cd17b470",
      "metadata": {
        "id": "cd17b470"
      },
      "outputs": [],
      "source": []
    },
    {
      "cell_type": "markdown",
      "id": "313f18c7",
      "metadata": {
        "id": "313f18c7"
      },
      "source": [
        "**Q6. Why is it important to understand the level of measurement when analyzing data? Provide an\n",
        "example to illustrate your answer.**"
      ]
    },
    {
      "cell_type": "markdown",
      "id": "1131ccd5",
      "metadata": {
        "id": "1131ccd5"
      },
      "source": [
        "- Levels of measurement are important because they indicate the extent to which statisticians, marketing analysts and financial analysts can use existing data. For instance, if you classify your data at the ordinal level of measurement, you know that you can evaluate how items compare to each other based on a specific hierarchy.\n",
        "\n",
        "- The level at which you measure a variable determines how you can analyze your data.\n",
        "\n",
        "The different levels limit which descriptive statistics you can use to get an overall summary of your data, and which type of inferential statistics you can perform on your data to support or refute your hypothesis."
      ]
    },
    {
      "cell_type": "markdown",
      "id": "ac27551c",
      "metadata": {
        "id": "ac27551c"
      },
      "source": [
        "Participant\t   Income (ordinal level)\t    Income (ratio level)\n",
        "\n",
        "A\t             Bracket 1\t                              $12,550\n",
        "\n",
        "B\t            Bracket 2\t                              $39,700\n",
        "\n",
        "C\t            Bracket 3\t                              $40,300"
      ]
    },
    {
      "cell_type": "markdown",
      "id": "a4e49713",
      "metadata": {
        "id": "a4e49713"
      },
      "source": [
        "At a ratio level, you can see that the difference between A and B’s incomes is far greater than the difference between B and C’s incomes."
      ]
    },
    {
      "cell_type": "markdown",
      "id": "d57c162c",
      "metadata": {
        "id": "d57c162c"
      },
      "source": [
        "**Q7. How nominal data type is different from ordinal data type.**"
      ]
    },
    {
      "cell_type": "markdown",
      "id": "7e50339f",
      "metadata": {
        "id": "7e50339f"
      },
      "source": [
        "- Ordinal data is data that can be ranked or ordered. Examples include data taken from a poll or survey.\n",
        "- Nominal data is data that can be made to fit various categories. Examples include whether an animal is a mammal, fish, reptile, amphibian, or bird."
      ]
    },
    {
      "cell_type": "code",
      "execution_count": null,
      "id": "20d8e817",
      "metadata": {
        "id": "20d8e817"
      },
      "outputs": [],
      "source": []
    },
    {
      "cell_type": "code",
      "execution_count": null,
      "id": "f4cc68ef",
      "metadata": {
        "id": "f4cc68ef"
      },
      "outputs": [],
      "source": []
    },
    {
      "cell_type": "markdown",
      "id": "72804aaf",
      "metadata": {
        "id": "72804aaf"
      },
      "source": [
        "**Q8. Which type of plot can be used to display data in terms of range?**"
      ]
    },
    {
      "cell_type": "markdown",
      "id": "fcfc00ca",
      "metadata": {
        "id": "fcfc00ca"
      },
      "source": [
        "-  all valuable and are mainstream in terms of classical analysis. There are also many statistical tools generally referred to as graphical techniques. These include:[1]\n",
        "\n",
        "  -  scatter plots\n",
        "   - spectrum plots\n",
        "   - histograms\n",
        "   - probability plots\n",
        "   - residual plots\n",
        "   -  box plots\n"
      ]
    },
    {
      "cell_type": "code",
      "execution_count": null,
      "id": "9d14a334",
      "metadata": {
        "id": "9d14a334"
      },
      "outputs": [],
      "source": []
    },
    {
      "cell_type": "markdown",
      "id": "d761631f",
      "metadata": {
        "id": "d761631f"
      },
      "source": [
        "**Q9. Describe the difference between descriptive and inferential statistics. Give an example of each\n",
        "type of statistics and explain how they are used.**"
      ]
    },
    {
      "cell_type": "markdown",
      "id": "d9262032",
      "metadata": {
        "id": "d9262032"
      },
      "source": [
        "- Descriptive statistics are useful because they allow you to understand a group of data much more quickly and easily compared to just staring at rows and rows of raw data values.\n",
        "- Using descriptive statistics, we could find the average score and create a graph that helps us visualize the distribution of scores.\n",
        "- For example, suppose we have a set of raw data that shows the test scores of 1,000 students at a particular school. We might be interested in the average test score along with the distribution of test scores.\n"
      ]
    },
    {
      "cell_type": "markdown",
      "id": "cc26f08a",
      "metadata": {
        "id": "cc26f08a"
      },
      "source": [
        "- inferential statistics uses a small sample of data to draw inferences about the larger population that the sample came from.\n",
        "- For example, we might be interested in understanding the political preferences of millions of people in a country.\n"
      ]
    },
    {
      "cell_type": "markdown",
      "id": "93d808db",
      "metadata": {
        "id": "93d808db"
      },
      "source": [
        "**use a random sampling method.**\n",
        "- A simple random sample\n",
        "- A systematic random sample\n",
        "- A cluster random sample\n",
        "- A stratified random sample"
      ]
    },
    {
      "cell_type": "code",
      "execution_count": null,
      "id": "7ec8d6a5",
      "metadata": {
        "id": "7ec8d6a5"
      },
      "outputs": [],
      "source": []
    },
    {
      "cell_type": "code",
      "execution_count": null,
      "id": "2a9e11e3",
      "metadata": {
        "id": "2a9e11e3"
      },
      "outputs": [],
      "source": []
    },
    {
      "cell_type": "code",
      "execution_count": null,
      "id": "4823dfc3",
      "metadata": {
        "id": "4823dfc3"
      },
      "outputs": [],
      "source": []
    },
    {
      "cell_type": "markdown",
      "id": "d6b909b6",
      "metadata": {
        "id": "d6b909b6"
      },
      "source": [
        "**Q10. What are some common measures of central tendency and variability used in statistics? Explain\n",
        "how each measure can be used to describe a dataset.**"
      ]
    },
    {
      "cell_type": "markdown",
      "id": "9fcd6129",
      "metadata": {
        "id": "9fcd6129"
      },
      "source": [
        " - if we sample from a \n",
        "population using a sufficiently large sample size, the mean of the samples (also known as the sample \n",
        "population) will be normally distributed (assuming true random sampling), the mean tending to the mean \n",
        "of the population and variance equal to the variance of the population divided by the size of the sampling. \n",
        "What’s especially important is that this will be true regardless of the distribution of the original population. "
      ]
    },
    {
      "cell_type": "markdown",
      "id": "9cce84ad",
      "metadata": {
        "id": "9cce84ad"
      },
      "source": [
        "- A measure of central tendency is a single value that represents the center point of a dataset. This value can also be referred to as “the central location” of a dataset.\n",
        "-  there are three common measures of central tendency:\n",
        "\n",
        "a. The mean\n",
        "\n",
        "b. The median\n",
        "\n",
        "c. The mode"
      ]
    },
    {
      "cell_type": "code",
      "execution_count": null,
      "id": "edb896f8",
      "metadata": {
        "id": "edb896f8"
      },
      "outputs": [],
      "source": [
        "ages_lst=[23,43,23,56,74,32,68,98,45,32]"
      ]
    },
    {
      "cell_type": "code",
      "execution_count": null,
      "id": "10178761",
      "metadata": {
        "id": "10178761",
        "outputId": "85f2719b-071c-4b03-d1a2-2a26d3aa9d58"
      },
      "outputs": [
        {
          "data": {
            "text/plain": [
              "49.4"
            ]
          },
          "execution_count": 3,
          "metadata": {},
          "output_type": "execute_result"
        }
      ],
      "source": [
        "import numpy as np\n",
        "np.mean(ages_lst)"
      ]
    },
    {
      "cell_type": "code",
      "execution_count": null,
      "id": "b4404d01",
      "metadata": {
        "id": "b4404d01",
        "outputId": "d06b0b93-24e8-4956-818f-61190ffe588b"
      },
      "outputs": [
        {
          "data": {
            "text/plain": [
              "44.0"
            ]
          },
          "execution_count": 5,
          "metadata": {},
          "output_type": "execute_result"
        }
      ],
      "source": [
        "np.median(ages_lst)"
      ]
    },
    {
      "cell_type": "code",
      "execution_count": null,
      "id": "c9819b62",
      "metadata": {
        "id": "c9819b62",
        "outputId": "22bd73da-7535-447c-f1ef-fdb0fe1f8d39"
      },
      "outputs": [
        {
          "ename": "AttributeError",
          "evalue": "module 'numpy' has no attribute 'mode'",
          "output_type": "error",
          "traceback": [
            "\u001b[1;31m---------------------------------------------------------------------------\u001b[0m",
            "\u001b[1;31mAttributeError\u001b[0m                            Traceback (most recent call last)",
            "\u001b[1;32m~\\AppData\\Local\\Temp/ipykernel_2656/3176186872.py\u001b[0m in \u001b[0;36m<module>\u001b[1;34m\u001b[0m\n\u001b[1;32m----> 1\u001b[1;33m \u001b[0mnp\u001b[0m\u001b[1;33m.\u001b[0m\u001b[0mmode\u001b[0m\u001b[1;33m(\u001b[0m\u001b[0mages_lst\u001b[0m\u001b[1;33m)\u001b[0m\u001b[1;33m\u001b[0m\u001b[1;33m\u001b[0m\u001b[0m\n\u001b[0m",
            "\u001b[1;32m~\\anaconda3\\lib\\site-packages\\numpy\\__init__.py\u001b[0m in \u001b[0;36m__getattr__\u001b[1;34m(attr)\u001b[0m\n\u001b[0;32m    301\u001b[0m                 \u001b[1;32mreturn\u001b[0m \u001b[0mTester\u001b[0m\u001b[1;33m\u001b[0m\u001b[1;33m\u001b[0m\u001b[0m\n\u001b[0;32m    302\u001b[0m \u001b[1;33m\u001b[0m\u001b[0m\n\u001b[1;32m--> 303\u001b[1;33m             raise AttributeError(\"module {!r} has no attribute \"\n\u001b[0m\u001b[0;32m    304\u001b[0m                                  \"{!r}\".format(__name__, attr))\n\u001b[0;32m    305\u001b[0m \u001b[1;33m\u001b[0m\u001b[0m\n",
            "\u001b[1;31mAttributeError\u001b[0m: module 'numpy' has no attribute 'mode'"
          ]
        }
      ],
      "source": [
        "np.mode(ages_lst)"
      ]
    },
    {
      "cell_type": "code",
      "execution_count": null,
      "id": "e1877509",
      "metadata": {
        "id": "e1877509"
      },
      "outputs": [],
      "source": []
    }
  ],
  "metadata": {
    "kernelspec": {
      "display_name": "Python 3 (ipykernel)",
      "language": "python",
      "name": "python3"
    },
    "language_info": {
      "codemirror_mode": {
        "name": "ipython",
        "version": 3
      },
      "file_extension": ".py",
      "mimetype": "text/x-python",
      "name": "python",
      "nbconvert_exporter": "python",
      "pygments_lexer": "ipython3",
      "version": "3.9.7"
    },
    "colab": {
      "provenance": [],
      "include_colab_link": true
    }
  },
  "nbformat": 4,
  "nbformat_minor": 5
}